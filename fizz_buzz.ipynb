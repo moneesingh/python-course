{
 "cells": [
  {
   "cell_type": "code",
   "execution_count": null,
   "id": "50204b84",
   "metadata": {},
   "outputs": [],
   "source": [
    "print(\"Welcome to FizzBuzz game. It prints numbers between 1-100.\")\n",
    "print(\"When the number is divisible by 3, it prints - Fizz, when it's divisible by 5, it prints - Buzz\")\n",
    "print(\"If the number is divisible by both 3 and 5, it prints FizzBuzz.\")\n",
    "\n",
    "for num in range(1, 101):\n",
    "    if (num % 15 == 0):\n",
    "        print(\"FizzBuzz\")\n",
    "    elif (num % 5 == 0):\n",
    "        print(\"Buzz\")\n",
    "    elif (num % 3 == 0):\n",
    "        print(\"Fizz\")\n",
    "    else:\n",
    "        print(num)        "
   ]
  }
 ],
 "metadata": {
  "kernelspec": {
   "display_name": ".venv",
   "language": "python",
   "name": "python3"
  },
  "language_info": {
   "codemirror_mode": {
    "name": "ipython",
    "version": 3
   },
   "file_extension": ".py",
   "mimetype": "text/x-python",
   "name": "python",
   "nbconvert_exporter": "python",
   "pygments_lexer": "ipython3",
   "version": "3.12.11"
  }
 },
 "nbformat": 4,
 "nbformat_minor": 5
}
