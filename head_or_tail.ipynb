{
 "cells": [
  {
   "cell_type": "code",
   "execution_count": null,
   "id": "1e400728",
   "metadata": {},
   "outputs": [],
   "source": [
    "import random\n",
    "\n",
    "while (True):\n",
    "    user_input = input(\"Toss the coin by pressing <Enter> key. Press any other key + <Enter> to exit the program.\")\n",
    "    if (user_input == \"\") :\n",
    "        randint = random.randint(1, 10)\n",
    "        print(randint)\n",
    "        if (randint <=5 ):\n",
    "            print(\"It's a HEAD\")\n",
    "        else:\n",
    "            print(\"It's a TAIL\")\n",
    "    else:\n",
    "        print(\"You did not toss, program will exit\")\n",
    "        break\n"
   ]
  }
 ],
 "metadata": {
  "kernelspec": {
   "display_name": ".venv",
   "language": "python",
   "name": "python3"
  },
  "language_info": {
   "codemirror_mode": {
    "name": "ipython",
    "version": 3
   },
   "file_extension": ".py",
   "mimetype": "text/x-python",
   "name": "python",
   "nbconvert_exporter": "python",
   "pygments_lexer": "ipython3",
   "version": "3.12.11"
  }
 },
 "nbformat": 4,
 "nbformat_minor": 5
}
