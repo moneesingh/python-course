{
 "cells": [
  {
   "cell_type": "markdown",
   "id": "309b6d1e",
   "metadata": {},
   "source": [
    "[Click to open the PDF document](treasure-island-flowchart.pdf)"
   ]
  },
  {
   "cell_type": "code",
   "execution_count": null,
   "id": "a814209e",
   "metadata": {},
   "outputs": [],
   "source": [
    "import sys\n",
    "\n",
    "def exit_function(error_message):\n",
    "    raise SystemExit(f\"Error: {error_message}\")\n",
    "    exit()\n",
    "\n",
    "\n",
    "print(\"Welcome to Treasure Island. Your mission is to find the treasure\")\n",
    "left = input(\"Do you want to go left? Y or N ? \").lower()\n",
    "is_left=False\n",
    "if (left == \"y\"):\n",
    "    is_left=True\n",
    "\n",
    "if (not is_left):\n",
    "    exit_function(\"You fell into a hole. Game Over!\")\n",
    "else:\n",
    "    swim = input(\"You went left.\\nDo you want to swim or wait? \").lower()\n",
    "    if (swim == \"swim\"):\n",
    "        exit_function(\"You are attacked by a Trout. Game Over!\")\n",
    "    else:\n",
    "        door = input(\"You wanted to wait.\\nWhich door you want to use, red, yello, blue or some other? \").lower()\n",
    "        if (door == \"red\"):\n",
    "            exit_function(\"You are burned by fire. Game Over!\")\n",
    "        elif (door == \"blue\"):\n",
    "            exit_function(\"You are eaten by beasts. Game Over!\")\n",
    "        elif (door == \"yellow\"):\n",
    "            print(\"You picked yellow.\\nYou win!\") \n",
    "        else:\n",
    "            exit_function(\"Wrong door. Game Over!\")         \n",
    "\n",
    "\n",
    "\n",
    "\n",
    "\n",
    "\n",
    "        "
   ]
  }
 ],
 "metadata": {
  "kernelspec": {
   "display_name": ".venv",
   "language": "python",
   "name": "python3"
  },
  "language_info": {
   "codemirror_mode": {
    "name": "ipython",
    "version": 3
   },
   "file_extension": ".py",
   "mimetype": "text/x-python",
   "name": "python",
   "nbconvert_exporter": "python",
   "pygments_lexer": "ipython3",
   "version": "3.12.11"
  }
 },
 "nbformat": 4,
 "nbformat_minor": 5
}
