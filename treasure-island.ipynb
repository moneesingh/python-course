{
 "cells": [
  {
   "cell_type": "markdown",
   "id": "309b6d1e",
   "metadata": {},
   "source": [
    "[Click to open the PDF document](treasure-island-flowchart.pdf)"
   ]
  },
  {
   "cell_type": "code",
   "execution_count": 4,
   "id": "a814209e",
   "metadata": {},
   "outputs": [
    {
     "name": "stdout",
     "output_type": "stream",
     "text": [
      "Welcome to Treasure Island. Your mission is to find the treasure\n"
     ]
    },
    {
     "ename": "SystemExit",
     "evalue": "Error: You fell into a hole. Game Over!",
     "output_type": "error",
     "traceback": [
      "An exception has occurred, use %tb to see the full traceback.\n",
      "\u001b[31mSystemExit\u001b[39m\u001b[31m:\u001b[39m Error: You fell into a hole. Game Over!\n"
     ]
    }
   ],
   "source": [
    "import sys\n",
    "\n",
    "def exit_function(error_message):\n",
    "    raise SystemExit(f\"Error: {error_message}\")\n",
    "    exit()\n",
    "\n",
    "\n",
    "print(\"Welcome to Treasure Island. Your mission is to find the treasure\")\n",
    "left = input(\"Do you want to go left? Y or N ? \").lower()\n",
    "is_left=False\n",
    "if (left == \"y\"):\n",
    "    is_left=True\n",
    "\n",
    "if (not is_left):\n",
    "    exit_function(\"You fell into a hole. Game Over!\")\n",
    "\n",
    "\n",
    "\n",
    "\n",
    "        "
   ]
  }
 ],
 "metadata": {
  "kernelspec": {
   "display_name": ".venv",
   "language": "python",
   "name": "python3"
  },
  "language_info": {
   "codemirror_mode": {
    "name": "ipython",
    "version": 3
   },
   "file_extension": ".py",
   "mimetype": "text/x-python",
   "name": "python",
   "nbconvert_exporter": "python",
   "pygments_lexer": "ipython3",
   "version": "3.12.11"
  }
 },
 "nbformat": 4,
 "nbformat_minor": 5
}
