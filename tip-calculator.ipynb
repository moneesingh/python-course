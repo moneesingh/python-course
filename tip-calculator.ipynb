{
 "cells": [
  {
   "cell_type": "markdown",
   "id": "9d505f0b",
   "metadata": {},
   "source": [
    "Simple code to pexercise basic data types without causing typerror or valueerror exceptions."
   ]
  },
  {
   "cell_type": "code",
   "execution_count": 1,
   "id": "c68aec36",
   "metadata": {},
   "outputs": [
    {
     "name": "stdout",
     "output_type": "stream",
     "text": [
      "Welcome to the tip calculator!\n",
      "Each person should pay $19.93\n"
     ]
    }
   ],
   "source": [
    "print(\"Welcome to the tip calculator!\")\n",
    "total = float(input(\"What was the total bill ? $\"))\n",
    "tip_percent = float(input(\"How much tip would you like to give? 10, 12 or 15 ?\"))\n",
    "num_of_guests = int(input(\"How many people to split the bill ?\"))\n",
    "tip = round((((total * tip_percent )/ 100 ) + total)/ num_of_guests, 2)\n",
    "print(f\"Each person should pay ${tip}\")"
   ]
  },
  {
   "cell_type": "markdown",
   "id": "5267029c",
   "metadata": {},
   "source": []
  }
 ],
 "metadata": {
  "kernelspec": {
   "display_name": ".venv",
   "language": "python",
   "name": "python3"
  },
  "language_info": {
   "codemirror_mode": {
    "name": "ipython",
    "version": 3
   },
   "file_extension": ".py",
   "mimetype": "text/x-python",
   "name": "python",
   "nbconvert_exporter": "python",
   "pygments_lexer": "ipython3",
   "version": "3.12.11"
  }
 },
 "nbformat": 4,
 "nbformat_minor": 5
}
