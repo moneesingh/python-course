{
 "cells": [
  {
   "cell_type": "markdown",
   "id": "621d72df",
   "metadata": {},
   "source": [
    "This code exercises the if-elif-else condition"
   ]
  },
  {
   "cell_type": "code",
   "execution_count": 10,
   "id": "618118d6",
   "metadata": {},
   "outputs": [
    {
     "name": "stdout",
     "output_type": "stream",
     "text": [
      "bmi is 29.218407596785973\n",
      "overweight\n"
     ]
    }
   ],
   "source": [
    "weight = 100\n",
    "height = 1.85\n",
    "\n",
    "bmi = weight / (height ** 2)\n",
    "print(f\"bmi is {bmi}\")\n",
    "\n",
    "# 🚨 Do not modify the values above\n",
    "# Write your code below 👇\n",
    "if bmi < 18.5:\n",
    "    print(\"underweight\")\n",
    "elif bmi >= 18.5 and bmi < 25:\n",
    "    print(\"normal\")\n",
    "else:\n",
    "    print(\"overweight\")\n",
    "    "
   ]
  }
 ],
 "metadata": {
  "kernelspec": {
   "display_name": ".venv",
   "language": "python",
   "name": "python3"
  },
  "language_info": {
   "codemirror_mode": {
    "name": "ipython",
    "version": 3
   },
   "file_extension": ".py",
   "mimetype": "text/x-python",
   "name": "python",
   "nbconvert_exporter": "python",
   "pygments_lexer": "ipython3",
   "version": "3.12.11"
  }
 },
 "nbformat": 4,
 "nbformat_minor": 5
}
